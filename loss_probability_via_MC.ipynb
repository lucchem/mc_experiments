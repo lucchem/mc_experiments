{
 "cells": [
  {
   "cell_type": "code",
   "execution_count": 2,
   "metadata": {},
   "outputs": [],
   "source": [
    "import numpy as np"
   ]
  },
  {
   "cell_type": "markdown",
   "metadata": {},
   "source": [
    "# Loss probability via Monte Carlo\n",
    "\n",
    "Taken from _Monte Carlo simulation with applications to Finance_ (Hui Wang, CRC), Examples 1.9 and 4.5.\n",
    "\n",
    "$M$ obligors may default, causing a loss of $c_k$ per $k$-th obligor. The total loss is:\n",
    "$$ L := \\sum_{k=1}^M c_k 1_{X_k\\ge x_k},$$\n",
    "where $X_k$ represents a random variable that if exceeds $x_k$ means that the obligor defaulted.\n",
    "The idea is that the default model is:\n",
    "$$X_k=\\rho_k Z +\\sqrt{1-\\rho_k^2}e_k,$$\n",
    "where $Z$ and $e_k$ are normal random variables.\n",
    "\n",
    "$X_k$'s are normal, and not independent because of $Z$, so a Monte Carlo situation is needed to assess the probability that $L$ exceeds a threshold $h$."
   ]
  },
  {
   "cell_type": "code",
   "execution_count": 8,
   "metadata": {},
   "outputs": [],
   "source": [
    "N = 10000\n",
    "M = 3\n",
    "h = 1\n",
    "\n",
    "rho = np.array([0.2,0.5,0.8])\n",
    "x_k = np.array([1,1,2])\n",
    "c_k = np.array([2,1,4])"
   ]
  },
  {
   "cell_type": "markdown",
   "metadata": {},
   "source": [
    "A simple algorithm is available in the mentioned textbook, and outlines the natural Monte Carlo implementation. Values seem in line with the reference."
   ]
  },
  {
   "cell_type": "code",
   "execution_count": 16,
   "metadata": {},
   "outputs": [
    {
     "name": "stdout",
     "output_type": "stream",
     "text": [
      "10000   1  1.78e-01  3.82e-03  2.15\n"
     ]
    }
   ],
   "source": [
    "X_k = np.zeros(M)\n",
    "H_i = np.zeros(N)\n",
    "\n",
    "for i in range(N):\n",
    "    e_k    = np.random.normal(size = M)\n",
    "    Z      = np.random.normal(size = 1)\n",
    "    X_k    = rho*Z+np.sqrt(1-rho**2)*e_k\n",
    "    L      = (c_k*(X_k >= x_k)).sum()\n",
    "    H_i[i] = 1*(L > h)\n",
    "    \n",
    "v_hat = H_i.mean()\n",
    "s_err = H_i.std()/np.sqrt(N)\n",
    "\n",
    "print(\"{:4d}  {:2d}  {:.2e}  {:.2e}  {:.2f}\".format(N,h,v_hat,s_err,s_err/v_hat*100))"
   ]
  }
 ],
 "metadata": {
  "kernelspec": {
   "display_name": "Python 3",
   "language": "python",
   "name": "python3"
  },
  "language_info": {
   "codemirror_mode": {
    "name": "ipython",
    "version": 3
   },
   "file_extension": ".py",
   "mimetype": "text/x-python",
   "name": "python",
   "nbconvert_exporter": "python",
   "pygments_lexer": "ipython3",
   "version": "3.7.4"
  }
 },
 "nbformat": 4,
 "nbformat_minor": 2
}
