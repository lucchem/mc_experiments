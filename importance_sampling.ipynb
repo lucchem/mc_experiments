{
 "cells": [
  {
   "cell_type": "code",
   "execution_count": 15,
   "metadata": {},
   "outputs": [],
   "source": [
    "import numpy as np\n",
    "import scipy.stats as sts\n",
    "import matplotlib.pyplot as plt\n",
    "\n",
    "np.random.seed(10101)"
   ]
  },
  {
   "cell_type": "markdown",
   "metadata": {},
   "source": [
    "# Importance sampling\n",
    "\n",
    "The following example is taken from $\\textit{Monte Carlo Simulation with Applications to Finance}$ (Hui Wang, CRC), pag 136.\n",
    "\n",
    "Price a binary (cash-or-nothing) call with and without importance sampling.\n",
    "\n",
    "We first of all set the fundamental parameters of the problem, and compute the exact solution via the known Black-Scholes expression."
   ]
  },
  {
   "cell_type": "code",
   "execution_count": 40,
   "metadata": {},
   "outputs": [
    {
     "name": "stdout",
     "output_type": "stream",
     "text": [
      "Black-Scholes price:  0.03771743020286561\n"
     ]
    }
   ],
   "source": [
    "T = 1\n",
    "n = 10000\n",
    "\n",
    "S0 = 50\n",
    "s = 0.1\n",
    "r = 0.01\n",
    "K = 60\n",
    "\n",
    "d2 = (np.log(S0/K)+(r-s**2/2)*T)/np.sqrt(s**2*T)\n",
    "c = np.exp(-r*T)*sts.norm.cdf(d2)\n",
    "print('Black-Scholes price: ',c)"
   ]
  },
  {
   "cell_type": "markdown",
   "metadata": {},
   "source": [
    "The price $S_T$ is sampled as a Geometric Brownian Motion at time $T$, and the sample mean and standard deviation of the risk-neutral price are computed. At this purpose, recall that $S_T\\ge K$ can be rewritten as:\n",
    "$$ S_T=S_0\\exp\\left[\\left(r-\\frac{\\sigma^2}2\\right)T+\\sigma W_T\\right]\\ge K\\Rightarrow W_T=TX\\ge \\dfrac{\\log{\\frac K{S_0}}-\\left(r-\\frac{\\sigma^2}2\\right)T}\\sigma=:Tb,$$\n",
    "where $X\\sim\\mathcal N(0,1)$, so that sampling $S_T$ consists in sampling $\\mathbb E\\left[e^{-rT}1_{X\\ge b}\\right]$."
   ]
  },
  {
   "cell_type": "code",
   "execution_count": 41,
   "metadata": {},
   "outputs": [],
   "source": [
    "b = (np.log(K/S0)-(r-s**2/2)*T)/np.sqrt(s**2*T)\n",
    "X = np.random.normal(size = n)\n",
    "\n",
    "X_sample_mean = ( np.exp(-r*T)*np.array(X >= b) ).mean()\n",
    "X_sample_sdev = ( np.exp(-r*T)*np.array(X >= b) ).std()"
   ]
  },
  {
   "cell_type": "markdown",
   "metadata": {},
   "source": [
    "Set up another normal variable, with mean equal to the strike of the option, and compute the risk-neutral expectations"
   ]
  },
  {
   "cell_type": "code",
   "execution_count": 42,
   "metadata": {},
   "outputs": [],
   "source": [
    "Y = np.random.normal(loc = b, size = n)\n",
    "\n",
    "Y_sample_mean = ( np.exp(-r*T)*np.array(Y >= b)*sts.norm.pdf(Y)/sts.norm.pdf(Y, loc = b) ).mean()\n",
    "Y_sample_sdev = ( np.exp(-r*T)*np.array(Y >= b)*sts.norm.pdf(Y)/sts.norm.pdf(Y, loc = b) ).std()"
   ]
  },
  {
   "cell_type": "markdown",
   "metadata": {},
   "source": [
    "Compare prices and standard deviations:"
   ]
  },
  {
   "cell_type": "code",
   "execution_count": 43,
   "metadata": {},
   "outputs": [
    {
     "name": "stdout",
     "output_type": "stream",
     "text": [
      "0.03663184384871921 0.037881691391798054 0.03771743020286561\n",
      "0.18688354376079502 0.05472928539566589\n"
     ]
    }
   ],
   "source": [
    "print(X_sample_mean,Y_sample_mean,c)\n",
    "print(X_sample_sdev,Y_sample_sdev)"
   ]
  },
  {
   "cell_type": "markdown",
   "metadata": {},
   "source": [
    "What I see is that when increasing $K$, and thus decreasing the portion of $X$'s contributing to the expectation, importance sampling generates an estimate with consistently lower standard deviation wrt normal sampling, showing that it is actually a variance reduction technique.\n",
    "\n",
    "One can plot the likelihood ratio $\\phi(Y)/\\phi(Y-b)$ appearing in the expectation, as a function of $Y-b$, just to see how different parts of the importance-sampled variable are weighted. Since the portion before $b$ should appear more during a normal sampling, its values are boosted by the likelihood ratio (the likelihood of $X\\ge b$ is way less than $X<b$). But this portion of the expectation is anyway null, as the indicator function kills it. Therefore, the expectation is still unbiased. On the other hand, the variance is reduced."
   ]
  },
  {
   "cell_type": "code",
   "execution_count": 47,
   "metadata": {},
   "outputs": [
    {
     "data": {
      "text/plain": [
       "<matplotlib.collections.PathCollection at 0x7fb41ec22fd0>"
      ]
     },
     "execution_count": 47,
     "metadata": {},
     "output_type": "execute_result"
    },
    {
     "data": {
      "image/png": "[encoded data removed]",
      "text/plain": [
       "<Figure size 432x288 with 1 Axes>"
      ]
     },
     "metadata": {
      "needs_background": "light"
     },
     "output_type": "display_data"
    }
   ],
   "source": [
    "plt.scatter(Y-b,sts.norm.pdf(Y)/sts.norm.pdf(Y, loc = b))"
   ]
  }
 ],
 "metadata": {
  "kernelspec": {
   "display_name": "Python 3",
   "language": "python",
   "name": "python3"
  },
  "language_info": {
   "codemirror_mode": {
    "name": "ipython",
    "version": 3
   },
   "file_extension": ".py",
   "mimetype": "text/x-python",
   "name": "python",
   "nbconvert_exporter": "python",
   "pygments_lexer": "ipython3",
   "version": "3.7.4"
  }
 },
 "nbformat": 4,
 "nbformat_minor": 2
}
