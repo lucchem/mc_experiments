{
 "cells": [
  {
   "cell_type": "code",
   "execution_count": 18,
   "metadata": {},
   "outputs": [],
   "source": [
    "import numpy as np\n",
    "import matplotlib.pyplot as plt\n",
    "from tqdm.notebook import tqdm\n",
    "import scipy.stats as sts"
   ]
  },
  {
   "cell_type": "markdown",
   "metadata": {},
   "source": [
    "# Jumping game\n",
    "\n",
    "This question comes from an interview, and it is a verification of the Central Limit Theorem.\n",
    "\n",
    "You jump $n$ times, either of 1 or 2. Compute the expected final position.\n",
    "\n",
    "It is basically the computation of $\\mathbb E[Y:=\\sum_{i=1}^n X_i]$, where $X_i=\\{1,2\\}$. Since $X_i$'s are iid with $\\mu=\\mathbb [X_i]=1.5$ and $\\sigma^2=\\mathbb V[X_i]=\\mathbb [X_i^2]-\\mu^2=0.25$, one should verify that the final distribution converges to $\\mathcal N(n\\mu,n\\sigma^2)$, that is what we see."
   ]
  },
  {
   "cell_type": "code",
   "execution_count": 17,
   "metadata": {},
   "outputs": [
    {
     "data": {
      "application/vnd.jupyter.widget-view+json": {
       "model_id": "",
       "version_major": 2,
       "version_minor": 0
      },
      "text/plain": [
       "HBox(children=(HTML(value='jumping 100 times'), FloatProgress(value=0.0, max=200000.0), HTML(value='')))"
      ]
     },
     "metadata": {},
     "output_type": "display_data"
    },
    {
     "data": {
      "image/png": "[encoded data removed]",
      "text/plain": [
       "<Figure size 432x288 with 1 Axes>"
      ]
     },
     "metadata": {
      "needs_background": "light"
     },
     "output_type": "display_data"
    }
   ],
   "source": [
    "n_games = 200000\n",
    "n_jumps = 100\n",
    "\n",
    "mean = 0.5*1+0.5*2\n",
    "vari = 0.5*1+0.5*2**2-mean**2\n",
    "\n",
    "positions = []\n",
    "for j in tqdm(range(n_games),desc='jumping {} times'.format(n_jumps),unit=' games',leave = False):\n",
    "    positions.append(sum(np.random.randint(1,3,n_jumps)))\n",
    "    \n",
    "plt.hist(positions, bins=n_jumps, density=True, range=(1,2*n_jumps), histtype='step')\n",
    "plt.plot(np.linspace(1,n_jumps*2,n_jumps*2), sts.norm.pdf(np.linspace(1,n_jumps*2,n_jumps*2), loc=n_jumps*mean, scale=np.sqrt(n_jumps*vari)))\n",
    "plt.xlabel('final position')\n",
    "plt.ylabel('probability density')\n",
    "plt.show()"
   ]
  },
  {
   "cell_type": "markdown",
   "metadata": {},
   "source": [
    "One may think this:\n",
    "\n",
    "0. consider the basic random walk $S_n:=\\sum_{i=1}^n X_i$, where $X_n=\\{-1,1\\}$. We know $\\mathbb E[S_n]=0$ and $\\mathbb V[S_n] = n$.\n",
    "1. define the random variable $Y:=0.5X+1.5$. Clearly our game consists in computing the distribution of $\\sum_{i=1}^n Y_i$.\n",
    "2. But:\n",
    "    $$ \\sum_{i=1}^n Y_i = \\sum_{i=1}^n (0.5X_i+1.5) = 0.5\\sum_{i=1}^n X_i+1.5n \n",
    "    \\Rightarrow \\mathbb E[\\sum_{i=1}^n Y_i] = 1.5n,\\,\\mathbb V[\\sum_{i=1}^n Y_i] = 0.5^2 \\mathbb V[\\sum_{i=1}^n X_i] = 0.25n,$$\n",
    "   that is what was observed."
   ]
  }
 ],
 "metadata": {
  "kernelspec": {
   "display_name": "Python 3",
   "language": "python",
   "name": "python3"
  },
  "language_info": {
   "codemirror_mode": {
    "name": "ipython",
    "version": 3
   },
   "file_extension": ".py",
   "mimetype": "text/x-python",
   "name": "python",
   "nbconvert_exporter": "python",
   "pygments_lexer": "ipython3",
   "version": "3.7.4"
  }
 },
 "nbformat": 4,
 "nbformat_minor": 2
}
